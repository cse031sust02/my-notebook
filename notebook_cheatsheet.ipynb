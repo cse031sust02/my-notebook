{
  "nbformat": 4,
  "nbformat_minor": 0,
  "metadata": {
    "colab": {
      "provenance": [],
      "authorship_tag": "ABX9TyPo3GBHZeuqvnBh8+zif3CZ",
      "include_colab_link": true
    },
    "kernelspec": {
      "name": "python3",
      "display_name": "Python 3"
    },
    "language_info": {
      "name": "python"
    }
  },
  "cells": [
    {
      "cell_type": "markdown",
      "metadata": {
        "id": "view-in-github",
        "colab_type": "text"
      },
      "source": [
        "<a href=\"https://colab.research.google.com/github/cse031sust02/my-notebook/blob/main/notebook_cheatsheet.ipynb\" target=\"_parent\"><img src=\"https://colab.research.google.com/assets/colab-badge.svg\" alt=\"Open In Colab\"/></a>"
      ]
    },
    {
      "cell_type": "markdown",
      "source": [
        "# Introduction\n",
        "\n",
        "Google Colab (Colaboratory) is a cloud-based version of Jupyter Notebook provided by Google. It allows you to write and run Python code directly in your web browser without any local installations. Colab offers free access to computing resources, including GPU and TPU acceleration, and enables easy sharing and collaboration on notebooks.\n",
        "\n",
        "#### Ipython\n",
        "IPython is an interactive command-line interface for Python. It provides an enhanced interactive Python shell with additional features and capabilities compared to the standard Python shell.\n",
        "\n",
        "#### IPython Notebook\n",
        "IPython Notebook, now called Jupyter Notebook, is an interactive computational environment that combines code, text, and visualizations in a single document. It is widely used for data analysis, research, and education.\n"
      ],
      "metadata": {
        "id": "7WzvnENzf1d6"
      }
    },
    {
      "cell_type": "markdown",
      "source": [
        "# Keyboard Shortcuts\n",
        "\n",
        "Here are some important keyboard shortcuts for Google Colab:\n",
        "\n",
        "- **Ctrl+Enter**: Run the code in the current cell.\n",
        "- **Shift+Enter**: Run the code in the current cell and move to the next cell.\n",
        "- **Ctrl+M I**: Interrupt the kernel (stop the execution of a cell).\n",
        "\n",
        "- **Ctrl+M B**: Insert a new code cell below the current cell.\n",
        "- **Ctrl+M A**: Insert a new code cell above the current cell.\n",
        "- **Ctrl+M D**: Delete the current cell.\n",
        "- **Ctrl+M Z**: Undo cell deletion.\n",
        "- **Ctrl+M K**: Move the current cell up (change cell position).\n",
        "- **Ctrl+M J**: Move the current cell down (change cell position).\n",
        "\n",
        "- **Ctrl+M M**: Convert the current cell to a Markdown cell.\n",
        "- **Ctrl+M Y**: Convert the current cell to a code cell.\n",
        "\n",
        "- **Ctrl+M S**: Save the notebook.\n",
        "\n"
      ],
      "metadata": {
        "id": "UUE98HpErHl2"
      }
    },
    {
      "cell_type": "markdown",
      "source": [
        "# New Section"
      ],
      "metadata": {
        "id": "DO4p2z4tzJjq"
      }
    },
    {
      "cell_type": "code",
      "source": [],
      "metadata": {
        "id": "sTnPKjbNrNf-"
      },
      "execution_count": null,
      "outputs": []
    },
    {
      "cell_type": "code",
      "source": [],
      "metadata": {
        "id": "kEv-daJZxqc7"
      },
      "execution_count": null,
      "outputs": []
    }
  ]
}