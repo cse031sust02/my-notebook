{
  "nbformat": 4,
  "nbformat_minor": 0,
  "metadata": {
    "colab": {
      "provenance": [],
      "authorship_tag": "ABX9TyMIHQWUbkPof1OxN72vwlia",
      "include_colab_link": true
    },
    "kernelspec": {
      "name": "python3",
      "display_name": "Python 3"
    },
    "language_info": {
      "name": "python"
    }
  },
  "cells": [
    {
      "cell_type": "markdown",
      "metadata": {
        "id": "view-in-github",
        "colab_type": "text"
      },
      "source": [
        "<a href=\"https://colab.research.google.com/github/cse031sust02/my-notebook/blob/main/notebook_cheatsheet.ipynb\" target=\"_parent\"><img src=\"https://colab.research.google.com/assets/colab-badge.svg\" alt=\"Open In Colab\"/></a>"
      ]
    },
    {
      "cell_type": "markdown",
      "source": [
        "# Introduction\n",
        "\n",
        "Google Colab (Colaboratory) is a cloud-based version of Jupyter Notebook provided by Google. It allows you to write and run Python code directly in your web browser without any local installations. Colab offers free access to computing resources, including GPU and TPU acceleration, and enables easy sharing and collaboration on notebooks.\n",
        "\n",
        "#### Ipython\n",
        "IPython is an interactive command-line interface for Python. It provides an enhanced interactive Python shell with additional features and capabilities compared to the standard Python shell.\n",
        "\n",
        "#### IPython Notebook\n",
        "IPython Notebook, now called Jupyter Notebook, is an interactive computational environment that combines code, text, and visualizations in a single document. It is widely used for data analysis, research, and education.\n"
      ],
      "metadata": {
        "id": "7WzvnENzf1d6"
      }
    },
    {
      "cell_type": "markdown",
      "source": [
        "# Keyboard Shortcuts\n",
        "\n",
        "Here are some important keyboard shortcuts for Google Colab:\n",
        "\n",
        "- **Ctrl + Enter**: Run the code in the current cell.\n",
        "- **Shift + Enter**: Run the code in the current cell and move to the next cell.\n",
        "- **Ctrl + M I**: Interrupt the kernel (stop the execution of a cell).\n",
        "\n",
        "- **Ctrl + M B**: Insert a new code cell below the current cell.\n",
        "- **Ctrl + M A**: Insert a new code cell above the current cell.\n",
        "- **Ctrl + M D**: Delete the current cell.\n",
        "- **Ctrl + M Z**: Undo cell deletion.\n",
        "- **Ctrl + M K**: Move the current cell up (change cell position).\n",
        "- **Ctrl + M J**: Move the current cell down (change cell position).\n",
        "\n",
        "- **Ctrl + M M**: Convert the current cell to a Markdown cell.\n",
        "- **Ctrl + M Y**: Convert the current cell to a code cell.\n",
        "\n",
        "- **Ctrl + M S**: Save the notebook.\n",
        "\n",
        "\n"
      ],
      "metadata": {
        "id": "UUE98HpErHl2"
      }
    },
    {
      "cell_type": "markdown",
      "source": [
        "# Magic commands\n",
        "Colab supports some magic commands similar to Jupyter Notebook. \n",
        "\n",
        "- `%time` - Measures the execution time of a single line of code.\n",
        "- `%%time` - Measures the execution time of an entire code cell.\n",
        "- `%load` - Loads code into a code cell from an external file.\n",
        "- `%pwd` - Prints the current working directory.\n",
        "- `%ls**` - Lists the files and directories in the current directory."
      ],
      "metadata": {
        "id": "DO4p2z4tzJjq"
      }
    },
    {
      "cell_type": "markdown",
      "source": [
        "#### Example"
      ],
      "metadata": {
        "id": "_SRKF55A_K4I"
      }
    },
    {
      "cell_type": "code",
      "source": [
        "def my_function(n):\n",
        "  result = 0\n",
        "  for i in range(n):\n",
        "    result += i\n",
        "  return result\n",
        "\n",
        "%time result = my_function(100)\n",
        "print(result)"
      ],
      "metadata": {
        "colab": {
          "base_uri": "https://localhost:8080/"
        },
        "id": "Ralm7YwL9WD8",
        "outputId": "c5bd0605-99b4-493f-aca7-00eece5d14b3"
      },
      "execution_count": 70,
      "outputs": [
        {
          "output_type": "stream",
          "name": "stdout",
          "text": [
            "CPU times: user 15 µs, sys: 0 ns, total: 15 µs\n",
            "Wall time: 18.6 µs\n",
            "4950\n"
          ]
        }
      ]
    },
    {
      "cell_type": "code",
      "source": [
        "%%time\n",
        "result1 = my_function(10000)\n",
        "result2 = my_function(50000)\n",
        "print(result1)\n",
        "print(result2)"
      ],
      "metadata": {
        "colab": {
          "base_uri": "https://localhost:8080/"
        },
        "id": "EmNp-UggAkp5",
        "outputId": "3b61fe54-5b43-4b49-c234-c77399f928c4"
      },
      "execution_count": 71,
      "outputs": [
        {
          "output_type": "stream",
          "name": "stdout",
          "text": [
            "49995000\n",
            "1249975000\n",
            "CPU times: user 8.36 ms, sys: 8 µs, total: 8.37 ms\n",
            "Wall time: 11.6 ms\n"
          ]
        }
      ]
    },
    {
      "cell_type": "markdown",
      "source": [
        "## Shell Commands\n",
        "\n",
        "You can execute shell commands directly from Colab cells by prefixing the command with an exclamation mark (!). \n",
        "\n",
        "For example:\n",
        "\n",
        "- `!pip install package_name` - Installs a Python package.\n",
        "- `!ls` - Lists the files and directories in the current directory.\n",
        "- `!wget URL` - Downloads a file from the specified URL."
      ],
      "metadata": {
        "id": "se3uF8OM_SIt"
      }
    }
  ]
}